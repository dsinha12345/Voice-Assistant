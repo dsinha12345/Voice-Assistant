{
 "cells": [
  {
   "cell_type": "code",
   "execution_count": 3,
   "id": "aac210ed",
   "metadata": {},
   "outputs": [
    {
     "name": "stdout",
     "output_type": "stream",
     "text": [
      "Response: [Training]\n",
      "•\tEnglish: \"Thank you for calling Scott Law Firm. Our office is closed today, Wednesday, July 2nd, for a staff training. We will reopen on Thursday, July 3rd, at 8:30 a.m. Please leave us a voice message, and we will return your phone call upon our return. Thank you!\"\n",
      "•\tSpanish: \"Gracias por llamar a Scott Law Firm. Nuestra oficina está cerrada hoy, miércoles, 2 de julio, por una capacitación de personal. Abriremos el jueves, 3 de julio, a las 8:30 de la mañana. Por favor déjenos un mensaje de voz y le devolveremos la llamada cuando regresemos a la oficina. ¡Gracias!\"\n"
     ]
    }
   ],
   "source": [
    "import os\n",
    "import requests\n",
    "from dotenv import load_dotenv\n",
    "\n",
    "# Load environment variables from .env file\n",
    "load_dotenv()\n",
    "\n",
    "# Retrieve the token from the environment\n",
    "Astra_token = os.getenv(\"ASTRA_TOKEN\")\n",
    "\n",
    "if not Astra_token:\n",
    "    raise ValueError(\"Missing ASTRA_TOKEN environment variable. Please define it in your .env file.\")\n",
    "\n",
    "# API endpoint\n",
    "url = \"https://api.langflow.astra.datastax.com/lf/d3284e5a-177f-4180-96ef-e0c951532254/api/v1/run/1640c2e6-d445-4638-a95a-5ad52035e5c4\"\n",
    "\n",
    "# Request payload\n",
    "payload = {\n",
    "    \"input_value\": \"we are closed tomorrow for training\",\n",
    "    \"output_type\": \"chat\",\n",
    "    \"input_type\": \"chat\"\n",
    "}\n",
    "\n",
    "# Headers with Bearer token\n",
    "headers = {\n",
    "    \"Content-Type\": \"application/json\",\n",
    "    \"Authorization\": f\"Bearer {Astra_token}\"\n",
    "}\n",
    "\n",
    "# Send request\n",
    "try:\n",
    "    response = requests.post(url, json=payload, headers=headers, timeout=30)\n",
    "    response.raise_for_status()\n",
    "    response_json = response.json()\n",
    "\n",
    "    # Safely extract the message\n",
    "    message = (\n",
    "        response_json.get(\"outputs\", [{}])[0]\n",
    "        .get(\"outputs\", [{}])[0]\n",
    "        .get(\"results\", {})\n",
    "        .get(\"message\", {})\n",
    "        .get(\"text\", \"Message not found.\")\n",
    "    )\n",
    "\n",
    "    print(\"Response:\", message)\n",
    "\n",
    "except requests.exceptions.HTTPError as http_err:\n",
    "    print(f\"HTTP error: {http_err} - {response.text}\")\n",
    "except requests.exceptions.Timeout:\n",
    "    print(\"Request timed out.\")\n",
    "except requests.exceptions.RequestException as err:\n",
    "    print(f\"Request failed: {err}\")\n",
    "except Exception as e:\n",
    "    print(f\"Unexpected error: {e}\")\n"
   ]
  },
  {
   "cell_type": "code",
   "execution_count": null,
   "id": "88331720",
   "metadata": {},
   "outputs": [],
   "source": []
  }
 ],
 "metadata": {
  "kernelspec": {
   "display_name": "Voice_Assistant-8hiPOFAD",
   "language": "python",
   "name": "python3"
  },
  "language_info": {
   "codemirror_mode": {
    "name": "ipython",
    "version": 3
   },
   "file_extension": ".py",
   "mimetype": "text/x-python",
   "name": "python",
   "nbconvert_exporter": "python",
   "pygments_lexer": "ipython3",
   "version": "3.13.2"
  }
 },
 "nbformat": 4,
 "nbformat_minor": 5
}
